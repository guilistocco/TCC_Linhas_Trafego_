{
 "cells": [
  {
   "cell_type": "code",
   "execution_count": 14,
   "metadata": {},
   "outputs": [],
   "source": [
    "import pandas as pd\n",
    "import random"
   ]
  },
  {
   "cell_type": "code",
   "execution_count": 35,
   "metadata": {},
   "outputs": [
    {
     "data": {
      "text/html": [
       "<div>\n",
       "<style scoped>\n",
       "    .dataframe tbody tr th:only-of-type {\n",
       "        vertical-align: middle;\n",
       "    }\n",
       "\n",
       "    .dataframe tbody tr th {\n",
       "        vertical-align: top;\n",
       "    }\n",
       "\n",
       "    .dataframe thead th {\n",
       "        text-align: right;\n",
       "    }\n",
       "</style>\n",
       "<table border=\"1\" class=\"dataframe\">\n",
       "  <thead>\n",
       "    <tr style=\"text-align: right;\">\n",
       "      <th></th>\n",
       "      <th>DATA_GPS</th>\n",
       "      <th>COD_LINHA</th>\n",
       "      <th>LAT</th>\n",
       "      <th>LONG</th>\n",
       "      <th>COD_ONIBUS</th>\n",
       "      <th>SENTIDO</th>\n",
       "      <th>ID_LINHA</th>\n",
       "      <th>SENTI_QUALI</th>\n",
       "    </tr>\n",
       "  </thead>\n",
       "  <tbody>\n",
       "    <tr>\n",
       "      <th>0</th>\n",
       "      <td>2013-06-01 03:59:59</td>\n",
       "      <td>1465</td>\n",
       "      <td>-23.755630</td>\n",
       "      <td>-46.692027</td>\n",
       "      <td>11644</td>\n",
       "      <td>1.0</td>\n",
       "      <td>6913-10</td>\n",
       "      <td>CENTRO/BAIRRO</td>\n",
       "    </tr>\n",
       "    <tr>\n",
       "      <th>1</th>\n",
       "      <td>2013-06-01 04:00:04</td>\n",
       "      <td>1465</td>\n",
       "      <td>-23.768447</td>\n",
       "      <td>-46.716032</td>\n",
       "      <td>11696</td>\n",
       "      <td>1.0</td>\n",
       "      <td>6913-10</td>\n",
       "      <td>CENTRO/BAIRRO</td>\n",
       "    </tr>\n",
       "    <tr>\n",
       "      <th>2</th>\n",
       "      <td>2013-06-01 04:00:05</td>\n",
       "      <td>1465</td>\n",
       "      <td>-23.755617</td>\n",
       "      <td>-46.691827</td>\n",
       "      <td>11602</td>\n",
       "      <td>1.0</td>\n",
       "      <td>6913-10</td>\n",
       "      <td>CENTRO/BAIRRO</td>\n",
       "    </tr>\n",
       "    <tr>\n",
       "      <th>3</th>\n",
       "      <td>2013-06-01 04:00:05</td>\n",
       "      <td>1465</td>\n",
       "      <td>-23.754227</td>\n",
       "      <td>-46.690552</td>\n",
       "      <td>11760</td>\n",
       "      <td>1.0</td>\n",
       "      <td>6913-10</td>\n",
       "      <td>CENTRO/BAIRRO</td>\n",
       "    </tr>\n",
       "    <tr>\n",
       "      <th>4</th>\n",
       "      <td>2013-06-01 04:00:05</td>\n",
       "      <td>34233</td>\n",
       "      <td>-23.755567</td>\n",
       "      <td>-46.691840</td>\n",
       "      <td>11748</td>\n",
       "      <td>2.0</td>\n",
       "      <td>6913-10</td>\n",
       "      <td>BAIRRO/CENTRO</td>\n",
       "    </tr>\n",
       "    <tr>\n",
       "      <th>...</th>\n",
       "      <td>...</td>\n",
       "      <td>...</td>\n",
       "      <td>...</td>\n",
       "      <td>...</td>\n",
       "      <td>...</td>\n",
       "      <td>...</td>\n",
       "      <td>...</td>\n",
       "      <td>...</td>\n",
       "    </tr>\n",
       "    <tr>\n",
       "      <th>50911</th>\n",
       "      <td>2013-06-02 03:59:49</td>\n",
       "      <td>1465</td>\n",
       "      <td>-23.755663</td>\n",
       "      <td>-46.691485</td>\n",
       "      <td>11580</td>\n",
       "      <td>1.0</td>\n",
       "      <td>6913-10</td>\n",
       "      <td>CENTRO/BAIRRO</td>\n",
       "    </tr>\n",
       "    <tr>\n",
       "      <th>50912</th>\n",
       "      <td>2013-06-02 03:59:52</td>\n",
       "      <td>34233</td>\n",
       "      <td>-23.754330</td>\n",
       "      <td>-46.691127</td>\n",
       "      <td>11546</td>\n",
       "      <td>2.0</td>\n",
       "      <td>6913-10</td>\n",
       "      <td>BAIRRO/CENTRO</td>\n",
       "    </tr>\n",
       "    <tr>\n",
       "      <th>50913</th>\n",
       "      <td>2013-06-02 03:59:52</td>\n",
       "      <td>1465</td>\n",
       "      <td>-23.755652</td>\n",
       "      <td>-46.691392</td>\n",
       "      <td>11567</td>\n",
       "      <td>1.0</td>\n",
       "      <td>6913-10</td>\n",
       "      <td>CENTRO/BAIRRO</td>\n",
       "    </tr>\n",
       "    <tr>\n",
       "      <th>50914</th>\n",
       "      <td>2013-06-02 03:59:52</td>\n",
       "      <td>1465</td>\n",
       "      <td>-23.754510</td>\n",
       "      <td>-46.691242</td>\n",
       "      <td>11624</td>\n",
       "      <td>1.0</td>\n",
       "      <td>6913-10</td>\n",
       "      <td>CENTRO/BAIRRO</td>\n",
       "    </tr>\n",
       "    <tr>\n",
       "      <th>50915</th>\n",
       "      <td>2013-06-02 03:59:55</td>\n",
       "      <td>34233</td>\n",
       "      <td>-23.755672</td>\n",
       "      <td>-46.691140</td>\n",
       "      <td>12992</td>\n",
       "      <td>2.0</td>\n",
       "      <td>6913-10</td>\n",
       "      <td>BAIRRO/CENTRO</td>\n",
       "    </tr>\n",
       "  </tbody>\n",
       "</table>\n",
       "<p>50916 rows × 8 columns</p>\n",
       "</div>"
      ],
      "text/plain": [
       "                 DATA_GPS  COD_LINHA        LAT       LONG  COD_ONIBUS  \\\n",
       "0     2013-06-01 03:59:59       1465 -23.755630 -46.692027       11644   \n",
       "1     2013-06-01 04:00:04       1465 -23.768447 -46.716032       11696   \n",
       "2     2013-06-01 04:00:05       1465 -23.755617 -46.691827       11602   \n",
       "3     2013-06-01 04:00:05       1465 -23.754227 -46.690552       11760   \n",
       "4     2013-06-01 04:00:05      34233 -23.755567 -46.691840       11748   \n",
       "...                   ...        ...        ...        ...         ...   \n",
       "50911 2013-06-02 03:59:49       1465 -23.755663 -46.691485       11580   \n",
       "50912 2013-06-02 03:59:52      34233 -23.754330 -46.691127       11546   \n",
       "50913 2013-06-02 03:59:52       1465 -23.755652 -46.691392       11567   \n",
       "50914 2013-06-02 03:59:52       1465 -23.754510 -46.691242       11624   \n",
       "50915 2013-06-02 03:59:55      34233 -23.755672 -46.691140       12992   \n",
       "\n",
       "       SENTIDO ID_LINHA    SENTI_QUALI  \n",
       "0          1.0  6913-10  CENTRO/BAIRRO  \n",
       "1          1.0  6913-10  CENTRO/BAIRRO  \n",
       "2          1.0  6913-10  CENTRO/BAIRRO  \n",
       "3          1.0  6913-10  CENTRO/BAIRRO  \n",
       "4          2.0  6913-10  BAIRRO/CENTRO  \n",
       "...        ...      ...            ...  \n",
       "50911      1.0  6913-10  CENTRO/BAIRRO  \n",
       "50912      2.0  6913-10  BAIRRO/CENTRO  \n",
       "50913      1.0  6913-10  CENTRO/BAIRRO  \n",
       "50914      1.0  6913-10  CENTRO/BAIRRO  \n",
       "50915      2.0  6913-10  BAIRRO/CENTRO  \n",
       "\n",
       "[50916 rows x 8 columns]"
      ]
     },
     "execution_count": 35,
     "metadata": {},
     "output_type": "execute_result"
    }
   ],
   "source": [
    "linha_interesse = pd.read_csv('linha_6913-10.csv', index_col=0)\n",
    "linha_interesse['DATA_GPS'] = pd.to_datetime(linha_interesse['DATA_GPS'])\n",
    "\n",
    "linha_interesse"
   ]
  },
  {
   "cell_type": "code",
   "execution_count": 36,
   "metadata": {},
   "outputs": [
    {
     "name": "stdout",
     "output_type": "stream",
     "text": [
      "<class 'pandas.core.frame.DataFrame'>\n",
      "Int64Index: 50916 entries, 0 to 50915\n",
      "Data columns (total 8 columns):\n",
      " #   Column       Non-Null Count  Dtype         \n",
      "---  ------       --------------  -----         \n",
      " 0   DATA_GPS     50916 non-null  datetime64[ns]\n",
      " 1   COD_LINHA    50916 non-null  int64         \n",
      " 2   LAT          50916 non-null  float64       \n",
      " 3   LONG         50916 non-null  float64       \n",
      " 4   COD_ONIBUS   50916 non-null  int64         \n",
      " 5   SENTIDO      50916 non-null  float64       \n",
      " 6   ID_LINHA     50916 non-null  object        \n",
      " 7   SENTI_QUALI  50916 non-null  object        \n",
      "dtypes: datetime64[ns](1), float64(3), int64(2), object(2)\n",
      "memory usage: 3.5+ MB\n"
     ]
    }
   ],
   "source": [
    "linha_interesse.info()"
   ]
  },
  {
   "cell_type": "code",
   "execution_count": 37,
   "metadata": {},
   "outputs": [
    {
     "data": {
      "text/html": [
       "<div>\n",
       "<style scoped>\n",
       "    .dataframe tbody tr th:only-of-type {\n",
       "        vertical-align: middle;\n",
       "    }\n",
       "\n",
       "    .dataframe tbody tr th {\n",
       "        vertical-align: top;\n",
       "    }\n",
       "\n",
       "    .dataframe thead th {\n",
       "        text-align: right;\n",
       "    }\n",
       "</style>\n",
       "<table border=\"1\" class=\"dataframe\">\n",
       "  <thead>\n",
       "    <tr style=\"text-align: right;\">\n",
       "      <th></th>\n",
       "      <th>DATA_GPS</th>\n",
       "      <th>COD_LINHA</th>\n",
       "      <th>LAT</th>\n",
       "      <th>LONG</th>\n",
       "      <th>COD_ONIBUS</th>\n",
       "      <th>SENTIDO</th>\n",
       "      <th>ID_LINHA</th>\n",
       "      <th>SENTI_QUALI</th>\n",
       "    </tr>\n",
       "  </thead>\n",
       "  <tbody>\n",
       "    <tr>\n",
       "      <th>0</th>\n",
       "      <td>2013-06-01 04:00:05</td>\n",
       "      <td>34233</td>\n",
       "      <td>-23.755567</td>\n",
       "      <td>-46.691840</td>\n",
       "      <td>11748</td>\n",
       "      <td>2.0</td>\n",
       "      <td>6913-10</td>\n",
       "      <td>BAIRRO/CENTRO</td>\n",
       "    </tr>\n",
       "    <tr>\n",
       "      <th>1</th>\n",
       "      <td>2013-06-01 04:00:14</td>\n",
       "      <td>34233</td>\n",
       "      <td>-23.754388</td>\n",
       "      <td>-46.691098</td>\n",
       "      <td>11262</td>\n",
       "      <td>2.0</td>\n",
       "      <td>6913-10</td>\n",
       "      <td>BAIRRO/CENTRO</td>\n",
       "    </tr>\n",
       "    <tr>\n",
       "      <th>2</th>\n",
       "      <td>2013-06-01 04:00:18</td>\n",
       "      <td>34233</td>\n",
       "      <td>-23.755480</td>\n",
       "      <td>-46.691760</td>\n",
       "      <td>11738</td>\n",
       "      <td>2.0</td>\n",
       "      <td>6913-10</td>\n",
       "      <td>BAIRRO/CENTRO</td>\n",
       "    </tr>\n",
       "    <tr>\n",
       "      <th>3</th>\n",
       "      <td>2013-06-01 04:00:20</td>\n",
       "      <td>34233</td>\n",
       "      <td>-23.755668</td>\n",
       "      <td>-46.691417</td>\n",
       "      <td>11323</td>\n",
       "      <td>2.0</td>\n",
       "      <td>6913-10</td>\n",
       "      <td>BAIRRO/CENTRO</td>\n",
       "    </tr>\n",
       "    <tr>\n",
       "      <th>4</th>\n",
       "      <td>2013-06-01 04:00:22</td>\n",
       "      <td>34233</td>\n",
       "      <td>-23.768255</td>\n",
       "      <td>-46.716262</td>\n",
       "      <td>11582</td>\n",
       "      <td>2.0</td>\n",
       "      <td>6913-10</td>\n",
       "      <td>BAIRRO/CENTRO</td>\n",
       "    </tr>\n",
       "  </tbody>\n",
       "</table>\n",
       "</div>"
      ],
      "text/plain": [
       "             DATA_GPS  COD_LINHA        LAT       LONG  COD_ONIBUS  SENTIDO  \\\n",
       "0 2013-06-01 04:00:05      34233 -23.755567 -46.691840       11748      2.0   \n",
       "1 2013-06-01 04:00:14      34233 -23.754388 -46.691098       11262      2.0   \n",
       "2 2013-06-01 04:00:18      34233 -23.755480 -46.691760       11738      2.0   \n",
       "3 2013-06-01 04:00:20      34233 -23.755668 -46.691417       11323      2.0   \n",
       "4 2013-06-01 04:00:22      34233 -23.768255 -46.716262       11582      2.0   \n",
       "\n",
       "  ID_LINHA    SENTI_QUALI  \n",
       "0  6913-10  BAIRRO/CENTRO  \n",
       "1  6913-10  BAIRRO/CENTRO  \n",
       "2  6913-10  BAIRRO/CENTRO  \n",
       "3  6913-10  BAIRRO/CENTRO  \n",
       "4  6913-10  BAIRRO/CENTRO  "
      ]
     },
     "execution_count": 37,
     "metadata": {},
     "output_type": "execute_result"
    }
   ],
   "source": [
    "cent_bair = linha_interesse[linha_interesse['SENTIDO'] == 1.0].reset_index(drop=True)\n",
    "bair_cent = linha_interesse[linha_interesse['SENTIDO'] == 2.0].reset_index(drop=True)\n",
    "bair_cent.head()"
   ]
  },
  {
   "cell_type": "code",
   "execution_count": 38,
   "metadata": {},
   "outputs": [
    {
     "name": "stdout",
     "output_type": "stream",
     "text": [
      "max 2013-06-02 03:59:55 min 2013-06-01 03:34:24\n"
     ]
    }
   ],
   "source": [
    "print('max', max(bair_cent['DATA_GPS']) , 'min', min(bair_cent['DATA_GPS']))"
   ]
  },
  {
   "cell_type": "code",
   "execution_count": 42,
   "metadata": {},
   "outputs": [
    {
     "data": {
      "text/plain": [
       "{1, 2}"
      ]
     },
     "execution_count": 42,
     "metadata": {},
     "output_type": "execute_result"
    }
   ],
   "source": [
    "set(bair_cent['DATA_GPS'].dt.day)"
   ]
  },
  {
   "cell_type": "code",
   "execution_count": 43,
   "metadata": {},
   "outputs": [
    {
     "data": {
      "text/plain": [
       "{6}"
      ]
     },
     "execution_count": 43,
     "metadata": {},
     "output_type": "execute_result"
    }
   ],
   "source": [
    "set(bair_cent['DATA_GPS'].dt.month)"
   ]
  },
  {
   "cell_type": "code",
   "execution_count": 40,
   "metadata": {},
   "outputs": [
    {
     "data": {
      "text/plain": [
       "11745    1764\n",
       "11440    1698\n",
       "11631    1578\n",
       "11582    1486\n",
       "11262    1436\n",
       "         ... \n",
       "11545      26\n",
       "11768      24\n",
       "11436      21\n",
       "11520      16\n",
       "11407       1\n",
       "Name: COD_ONIBUS, Length: 93, dtype: int64"
      ]
     },
     "execution_count": 40,
     "metadata": {},
     "output_type": "execute_result"
    }
   ],
   "source": [
    "linha_interesse.COD_ONIBUS.value_counts()"
   ]
  },
  {
   "cell_type": "code",
   "execution_count": 47,
   "metadata": {},
   "outputs": [
    {
     "name": "stdout",
     "output_type": "stream",
     "text": [
      "11777 \t 2013-06-01 04:00:07 \t 2013-06-02 03:56:05\n",
      "11748 \t 2013-06-01 04:00:05 \t 2013-06-02 03:57:21\n",
      "11782 \t 2013-06-01 04:00:13 \t 2013-06-02 03:59:30\n",
      "11696 \t 2013-06-01 04:00:04 \t 2013-06-02 03:59:12\n",
      "11760 \t 2013-06-01 04:00:05 \t 2013-06-02 03:59:26\n",
      "11602 \t 2013-06-01 04:00:05 \t 2013-06-02 03:56:04\n",
      "11312 \t 2013-06-01 04:00:14 \t 2013-06-02 03:59:35\n",
      "11644 \t 2013-06-01 03:59:59 \t 2013-06-02 03:59:05\n"
     ]
    }
   ],
   "source": [
    "for bus in set(linha_interesse['COD_ONIBUS'][:10]):\n",
    "    busss = linha_interesse[linha_interesse['COD_ONIBUS'] == bus]\n",
    "    print(bus,'\\t', min(busss['DATA_GPS']),'\\t', max(busss['DATA_GPS']))"
   ]
  },
  {
   "cell_type": "code",
   "execution_count": 48,
   "metadata": {},
   "outputs": [
    {
     "data": {
      "text/html": [
       "<div>\n",
       "<style scoped>\n",
       "    .dataframe tbody tr th:only-of-type {\n",
       "        vertical-align: middle;\n",
       "    }\n",
       "\n",
       "    .dataframe tbody tr th {\n",
       "        vertical-align: top;\n",
       "    }\n",
       "\n",
       "    .dataframe thead th {\n",
       "        text-align: right;\n",
       "    }\n",
       "</style>\n",
       "<table border=\"1\" class=\"dataframe\">\n",
       "  <thead>\n",
       "    <tr style=\"text-align: right;\">\n",
       "      <th></th>\n",
       "      <th>DATA_GPS</th>\n",
       "      <th>COD_LINHA</th>\n",
       "      <th>LAT</th>\n",
       "      <th>LONG</th>\n",
       "      <th>COD_ONIBUS</th>\n",
       "      <th>SENTIDO</th>\n",
       "      <th>ID_LINHA</th>\n",
       "      <th>SENTI_QUALI</th>\n",
       "    </tr>\n",
       "  </thead>\n",
       "  <tbody>\n",
       "    <tr>\n",
       "      <th>2132</th>\n",
       "      <td>2013-05-31 15:35:49</td>\n",
       "      <td>1465</td>\n",
       "      <td>-23.755610</td>\n",
       "      <td>-46.692012</td>\n",
       "      <td>11792</td>\n",
       "      <td>1.0</td>\n",
       "      <td>6913-10</td>\n",
       "      <td>CENTRO/BAIRRO</td>\n",
       "    </tr>\n",
       "    <tr>\n",
       "      <th>2134</th>\n",
       "      <td>2013-05-31 15:09:13</td>\n",
       "      <td>1465</td>\n",
       "      <td>-23.755610</td>\n",
       "      <td>-46.692012</td>\n",
       "      <td>11792</td>\n",
       "      <td>1.0</td>\n",
       "      <td>6913-10</td>\n",
       "      <td>CENTRO/BAIRRO</td>\n",
       "    </tr>\n",
       "    <tr>\n",
       "      <th>10503</th>\n",
       "      <td>2013-05-29 22:38:19</td>\n",
       "      <td>1465</td>\n",
       "      <td>-23.753045</td>\n",
       "      <td>-46.690810</td>\n",
       "      <td>11436</td>\n",
       "      <td>1.0</td>\n",
       "      <td>6913-10</td>\n",
       "      <td>CENTRO/BAIRRO</td>\n",
       "    </tr>\n",
       "    <tr>\n",
       "      <th>22059</th>\n",
       "      <td>2013-05-28 22:19:29</td>\n",
       "      <td>1465</td>\n",
       "      <td>-23.753007</td>\n",
       "      <td>-46.690225</td>\n",
       "      <td>11307</td>\n",
       "      <td>1.0</td>\n",
       "      <td>6913-10</td>\n",
       "      <td>CENTRO/BAIRRO</td>\n",
       "    </tr>\n",
       "    <tr>\n",
       "      <th>22269</th>\n",
       "      <td>2013-05-28 22:23:52</td>\n",
       "      <td>1465</td>\n",
       "      <td>-23.753007</td>\n",
       "      <td>-46.690225</td>\n",
       "      <td>11307</td>\n",
       "      <td>1.0</td>\n",
       "      <td>6913-10</td>\n",
       "      <td>CENTRO/BAIRRO</td>\n",
       "    </tr>\n",
       "  </tbody>\n",
       "</table>\n",
       "</div>"
      ],
      "text/plain": [
       "                 DATA_GPS  COD_LINHA        LAT       LONG  COD_ONIBUS  \\\n",
       "2132  2013-05-31 15:35:49       1465 -23.755610 -46.692012       11792   \n",
       "2134  2013-05-31 15:09:13       1465 -23.755610 -46.692012       11792   \n",
       "10503 2013-05-29 22:38:19       1465 -23.753045 -46.690810       11436   \n",
       "22059 2013-05-28 22:19:29       1465 -23.753007 -46.690225       11307   \n",
       "22269 2013-05-28 22:23:52       1465 -23.753007 -46.690225       11307   \n",
       "\n",
       "       SENTIDO ID_LINHA    SENTI_QUALI  \n",
       "2132       1.0  6913-10  CENTRO/BAIRRO  \n",
       "2134       1.0  6913-10  CENTRO/BAIRRO  \n",
       "10503      1.0  6913-10  CENTRO/BAIRRO  \n",
       "22059      1.0  6913-10  CENTRO/BAIRRO  \n",
       "22269      1.0  6913-10  CENTRO/BAIRRO  "
      ]
     },
     "execution_count": 48,
     "metadata": {},
     "output_type": "execute_result"
    }
   ],
   "source": [
    "linha_interesse[linha_interesse['DATA_GPS'].dt.month < 6]"
   ]
  },
  {
   "cell_type": "markdown",
   "metadata": {},
   "source": [
    "## to do's\n",
    "\n",
    "- buscar trechos e itinerários dessa linha\n",
    "- buscar os pontos d eonibus pelos quais essa linha passa pra ter a localização dos pontos de onibus\n",
    "- "
   ]
  },
  {
   "cell_type": "code",
   "execution_count": null,
   "metadata": {},
   "outputs": [],
   "source": []
  },
  {
   "cell_type": "code",
   "execution_count": null,
   "metadata": {},
   "outputs": [],
   "source": []
  },
  {
   "cell_type": "code",
   "execution_count": null,
   "metadata": {},
   "outputs": [],
   "source": []
  },
  {
   "cell_type": "code",
   "execution_count": null,
   "metadata": {},
   "outputs": [],
   "source": []
  },
  {
   "cell_type": "code",
   "execution_count": null,
   "metadata": {},
   "outputs": [],
   "source": []
  }
 ],
 "metadata": {
  "interpreter": {
   "hash": "23beffec69f8fee6df74762559943b89362db813a6984b1106f4330cf01a9290"
  },
  "kernelspec": {
   "display_name": "Python 3.7.6 ('base')",
   "language": "python",
   "name": "python3"
  },
  "language_info": {
   "codemirror_mode": {
    "name": "ipython",
    "version": 3
   },
   "file_extension": ".py",
   "mimetype": "text/x-python",
   "name": "python",
   "nbconvert_exporter": "python",
   "pygments_lexer": "ipython3",
   "version": "3.7.6"
  },
  "orig_nbformat": 4
 },
 "nbformat": 4,
 "nbformat_minor": 2
}
